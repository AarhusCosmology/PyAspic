{
 "cells": [
  {
   "cell_type": "code",
   "execution_count": 3,
   "metadata": {},
   "outputs": [],
   "source": [
    "import pyaspic\n",
    "import numpy as np\n",
    "#assumes pivot-scale as 0.05 1/Mpc\n",
    "\n",
    "class Slowroll():\n",
    "    \n",
    "    def __init__(self, model, lnRreh, *parameters):\n",
    "        C = np.euler_gamma+np.log(2)-2\n",
    "        f = 5\n",
    "        g = 7\n",
    "        bfoldstar = 0.0\n",
    "        \n",
    "        self.model = model\n",
    "        self.xstar, self.bfoldstar = getattr(pyaspic,f'{self.model}_x_rreh')(*parameters,lnRreh,bfoldstar)\n",
    "        \n",
    "        self.eps1 = getattr(pyaspic,f'{self.model}_epsilon_one')(self.xstar,*parameters)\n",
    "        self.eps2 = getattr(pyaspic,f'{self.model}_epsilon_two')(self.xstar,*parameters)\n",
    "        self.eps3 = getattr(pyaspic,f'{self.model}_epsilon_three')(self.xstar,*parameters)\n",
    "        \n",
    "        self.a0s = 1 -2*(C+1)*self.eps1 -C*self.eps2 +(2*C**2+2*C+np.pi**2/2-f)*self.eps1**2 +(C**2-C+7*np.pi**2/12-g)*self.eps1*self.eps2 +(1/2*C**2+np.pi**2/8-1)*self.eps2**2 +(-1/2*C**2+np.pi**2/24)*self.eps2*self.eps3\n",
    "        self.a1s = -2*self.eps1-self.eps2+2*(2*C+1)*self.eps1**2+(2*C-1)*self.eps1*self.eps2+C*self.eps2**2-C*self.eps2*self.eps3\n",
    "        self.a2s = 4*self.eps1**2+2*self.eps1*self.eps2+self.eps2**2-self.eps2*self.eps3\n",
    "        self.a0t = 1-2*(C+1)*self.eps1 +(2*C**2+2*C+np.pi**2/2-f)*self.eps1**2+(-C**2-2*C+np.pi**2/12-2)*self.eps1*self.eps2\n",
    "        self.a1t = -2*self.eps1+2*(2*C+1)*self.eps1**2-2*(C+1)*self.eps1*self.eps2\n",
    "        self.a2t = 4*self.eps1**2-2*self.eps1*self.eps2\n",
    "        \n",
    "        self.ns = 1+self.a1s/self.a0s\n",
    "        self.alphas = (self.a2s*self.a0s-self.a1s**2)/self.a0s**2\n",
    "        self.nt = self.a1t/self.a0t\n",
    "        self.alphat = (self.a2t*self.a0t-self.a1t**2)/self.a0t**2\n",
    "        self.r = 16*self.eps1\n",
    "        self.At = self.r*self.ns/self.nt"
   ]
  }
 ],
 "metadata": {
  "kernelspec": {
   "display_name": "Python 3",
   "language": "python",
   "name": "python3"
  },
  "language_info": {
   "codemirror_mode": {
    "name": "ipython",
    "version": 3
   },
   "file_extension": ".py",
   "mimetype": "text/x-python",
   "name": "python",
   "nbconvert_exporter": "python",
   "pygments_lexer": "ipython3",
   "version": "3.8.5"
  }
 },
 "nbformat": 4,
 "nbformat_minor": 4
}
